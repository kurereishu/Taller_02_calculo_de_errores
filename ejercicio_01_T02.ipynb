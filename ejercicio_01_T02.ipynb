{
 "cells": [
  {
   "cell_type": "markdown",
   "id": "cc8b189e",
   "metadata": {},
   "source": [
    "# TALLER 02 Cálculo de erores\n",
    "## Integrantes:\n",
    "## - Christian Ayala\n",
    "## - Jhonn Saeteros"
   ]
  },
  {
   "attachments": {
    "image.png": {
     "image/png": "[encoded data removed]"
    }
   },
   "cell_type": "markdown",
   "id": "ea7e318c",
   "metadata": {},
   "source": [
    "![image.png](attachment:image.png)"
   ]
  },
  {
   "cell_type": "code",
   "execution_count": null,
   "id": "0e20d899",
   "metadata": {},
   "outputs": [
    {
     "ename": "NameError",
     "evalue": "name 'x3' is not defined",
     "output_type": "error",
     "traceback": [
      "\u001b[1;31m---------------------------------------------------------------------------\u001b[0m",
      "\u001b[1;31mNameError\u001b[0m                                 Traceback (most recent call last)",
      "Cell \u001b[1;32mIn[15], line 20\u001b[0m\n\u001b[0;32m     18\u001b[0m \u001b[38;5;28;01mfor\u001b[39;00m x0 \u001b[38;5;129;01min\u001b[39;00m valores_iniciales:\n\u001b[0;32m     19\u001b[0m     \u001b[38;5;28;01mtry\u001b[39;00m:\n\u001b[1;32m---> 20\u001b[0m         raiz \u001b[38;5;241m=\u001b[39m newton(f, x0, fprime\u001b[38;5;241m=\u001b[39mf_prime)\n\u001b[0;32m     21\u001b[0m         \u001b[38;5;66;03m# Añadir raíz si no está ya en la lista (evitar duplicados con tolerancia)\u001b[39;00m\n\u001b[0;32m     22\u001b[0m         \u001b[38;5;28;01mif\u001b[39;00m \u001b[38;5;129;01mnot\u001b[39;00m \u001b[38;5;28many\u001b[39m(np\u001b[38;5;241m.\u001b[39misclose(raiz, r, atol\u001b[38;5;241m=\u001b[39m\u001b[38;5;241m1e-6\u001b[39m) \u001b[38;5;28;01mfor\u001b[39;00m r \u001b[38;5;129;01min\u001b[39;00m raices):\n",
      "File \u001b[1;32mc:\\Users\\USUARIO\\anaconda3\\Lib\\site-packages\\scipy\\optimize\\_zeros_py.py:308\u001b[0m, in \u001b[0;36mnewton\u001b[1;34m(func, x0, fprime, args, tol, maxiter, fprime2, x1, rtol, full_output, disp)\u001b[0m\n\u001b[0;32m    305\u001b[0m method \u001b[38;5;241m=\u001b[39m \u001b[38;5;124m\"\u001b[39m\u001b[38;5;124mnewton\u001b[39m\u001b[38;5;124m\"\u001b[39m\n\u001b[0;32m    306\u001b[0m \u001b[38;5;28;01mfor\u001b[39;00m itr \u001b[38;5;129;01min\u001b[39;00m \u001b[38;5;28mrange\u001b[39m(maxiter):\n\u001b[0;32m    307\u001b[0m     \u001b[38;5;66;03m# first evaluate fval\u001b[39;00m\n\u001b[1;32m--> 308\u001b[0m     fval \u001b[38;5;241m=\u001b[39m func(p0, \u001b[38;5;241m*\u001b[39margs)\n\u001b[0;32m    309\u001b[0m     funcalls \u001b[38;5;241m+\u001b[39m\u001b[38;5;241m=\u001b[39m \u001b[38;5;241m1\u001b[39m\n\u001b[0;32m    310\u001b[0m     \u001b[38;5;66;03m# If fval is 0, a root has been found, then terminate\u001b[39;00m\n",
      "Cell \u001b[1;32mIn[15], line 9\u001b[0m, in \u001b[0;36mf\u001b[1;34m(x)\u001b[0m\n\u001b[0;32m      8\u001b[0m \u001b[38;5;28;01mdef\u001b[39;00m \u001b[38;5;21mf\u001b[39m(x):\n\u001b[1;32m----> 9\u001b[0m     \u001b[38;5;28;01mreturn\u001b[39;00m x\u001b[38;5;241m*\u001b[39m\u001b[38;5;241m4\u001b[39m \u001b[38;5;241m+\u001b[39m \u001b[38;5;241m540\u001b[39m\u001b[38;5;241m*\u001b[39mx3 \u001b[38;5;241m+\u001b[39m \u001b[38;5;241m109124\u001b[39m\u001b[38;5;241m*\u001b[39mx\u001b[38;5;241m*\u001b[39m\u001b[38;5;241m2\u001b[39m \u001b[38;5;241m+\u001b[39m \u001b[38;5;241m9781632\u001b[39m\u001b[38;5;241m*\u001b[39mx \u001b[38;5;241m+\u001b[39m \u001b[38;5;241m328188672\u001b[39m\n",
      "\u001b[1;31mNameError\u001b[0m: name 'x3' is not defined"
     ]
    }
   ],
   "source": [
    "import numpy as np\n",
    "import matplotlib.pyplot as plt\n",
    "from scipy.optimize import newton\n",
    "from matplotlib.animation import FuncAnimation\n",
    "import random\n",
    "\n",
    "# Definición del polinomio y su derivada\n",
    "def f(x):\n",
    "    return x*4 + 540*x3 + 109124*x*2 + 9781632*x + 328188672\n",
    "\n",
    "def f_prime(x):\n",
    "    return 4*x*3 + 3*540*x*2 + 2*109124*x + 9781632\n",
    "\n",
    "# Intentos con distintos valores iniciales para encontrar múltiples raíces\n",
    "valores_iniciales = [-500, -200, -100, -50, -10, 0, 10]\n",
    "raices = []\n",
    "\n",
    "for x0 in valores_iniciales:\n",
    "    try:\n",
    "        raiz = newton(f, x0, fprime=f_prime):\n",
    "        # Añadir raíz si no está ya en la lista (evitar duplicados con tolerancia)\n",
    "        if not any(np.isclose(raiz, r, atol=1e-6) for r in raices):\n",
    "            raices.append(raiz)\n",
    "    except RuntimeError:\n",
    "        pass  # Si no converge, continuar con el siguiente valor\n",
    "\n",
    "# Mostrar raíces encontradas\n",
    "print(\"Raíces encontradas con método de Newton:\")\n",
    "for r in raices:\n",
    "    print(r)\n",
    "\n",
    "# Graficar el polinomio\n",
    "x = np.linspace(-160, 100, 50)\n",
    "y = f(x)\n",
    "\n",
    "# Configuración de la figura para la animación\n",
    "fig, ax = plt.subplots(figsize=(12, 8))\n",
    "line, = ax.plot(x, y, label='f(x)', color='blue')\n",
    "ax.axhline(0, color='gray', linestyle='--')\n",
    "scatter_points = ax.scatter([], [], color='red', label='Raíces (Newton)', s=100)\n",
    "ax.set_title('Polinomio y sus raíces', fontsize=16)\n",
    "ax.set_xlabel('x', fontsize=14)\n",
    "ax.set_ylabel('f(x)', fontsize=14)\n",
    "ax.legend()\n",
    "ax.grid(True)\n",
    "\n",
    "# Lista de colores para el título y el punto\n",
    "colores_titulo = ['red', 'green', 'blue', 'orange', 'purple', 'cyan', 'magenta']\n",
    "\n",
    "# Función de inicialización para la animación\n",
    "def init():\n",
    "    scatter_points.set_offsets(np.empty((0, 2)))\n",
    "    return line, scatter_points\n",
    "\n",
    "# Función de actualización para la animación\n",
    "def update(frame):\n",
    "    if frame < len(raices):\n",
    "        # Actualizar los puntos de las raíces\n",
    "        scatter_points.set_offsets([[raices[frame], f(raices[frame])]])\n",
    "        \n",
    "        # Cambiar el color del título y del punto de la raíz\n",
    "        color_actual = random.choice(colores_titulo)\n",
    "        ax.set_title(f'Polinomio y sus raíces: {raices[frame]:.10f}', fontsize=16, color=color_actual)\n",
    "        scatter_points.set_facecolor(color_actual)  # Cambiar color del punto\n",
    "        \n",
    "    return line, scatter_points\n",
    "\n",
    "# Crear la animación\n",
    "ani = FuncAnimation(fig, update, frames=len(raices), init_func=init, blit=False, interval=1000)\n",
    "\n",
    "plt.show()"
   ]
  }
 ],
 "metadata": {
  "kernelspec": {
   "display_name": "base",
   "language": "python",
   "name": "python3"
  },
  "language_info": {
   "codemirror_mode": {
    "name": "ipython",
    "version": 3
   },
   "file_extension": ".py",
   "mimetype": "text/x-python",
   "name": "python",
   "nbconvert_exporter": "python",
   "pygments_lexer": "ipython3",
   "version": "3.12.7"
  }
 },
 "nbformat": 4,
 "nbformat_minor": 5
}
